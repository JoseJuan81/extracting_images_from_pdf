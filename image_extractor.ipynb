{
 "cells": [
  {
   "cell_type": "code",
   "execution_count": 31,
   "id": "746140c4-677f-4f5b-8b83-c4ff7e53f24a",
   "metadata": {},
   "outputs": [],
   "source": [
    "#!pip install PyMuPDF"
   ]
  },
  {
   "cell_type": "code",
   "execution_count": 3,
   "id": "99c9355d-2c6a-41a7-921a-118b0787dd95",
   "metadata": {},
   "outputs": [],
   "source": [
    "import os\n",
    "import io\n",
    "import fitz #PyMuPDF\n",
    "from PIL import Image"
   ]
  },
  {
   "cell_type": "markdown",
   "id": "3a8c0a89-4fbc-4f70-9622-9b5aee8933ba",
   "metadata": {},
   "source": [
    "### Directorio de almacenamiento de imágenes"
   ]
  },
  {
   "cell_type": "code",
   "execution_count": 29,
   "id": "4c6fb1c6-4f3f-4fdb-ae30-acd12c4b46cf",
   "metadata": {},
   "outputs": [],
   "source": [
    "saving_base_dir = os.getcwd()\n",
    "saving_dir = \"images\""
   ]
  },
  {
   "cell_type": "markdown",
   "id": "3bfedbfa-c296-48af-a874-d9f490f2ef54",
   "metadata": {},
   "source": [
    "### Ubicación del archivo Pdf a extraerle las imágenes"
   ]
  },
  {
   "cell_type": "code",
   "execution_count": 20,
   "id": "c10017fa-6610-4354-ae55-680c94aae06f",
   "metadata": {},
   "outputs": [],
   "source": [
    "file_name = 'file_target.pdf'\n",
    "search_base_dir = 'complete_path_to_dir_target'\n",
    "search_complete_path = os.path.join(search_base_dir, file_name)"
   ]
  },
  {
   "cell_type": "markdown",
   "id": "cb3711fd-701a-4f14-ba59-6ccce58f8aa7",
   "metadata": {},
   "source": [
    "### Abrir archivo pdf"
   ]
  },
  {
   "cell_type": "code",
   "execution_count": 22,
   "id": "880cee8c-dd6e-4451-a7ad-da10282c9ae4",
   "metadata": {},
   "outputs": [],
   "source": [
    "pdf_file = fitz.open(search_complete_path)"
   ]
  },
  {
   "cell_type": "markdown",
   "id": "e1e4d35f-dfb4-4e1e-9aa0-d5b2b5891aca",
   "metadata": {},
   "source": [
    "### Recorrer páginas del documento"
   ]
  },
  {
   "cell_type": "code",
   "execution_count": 30,
   "id": "25608f38-47de-454b-a7c8-b39f156bffdc",
   "metadata": {},
   "outputs": [
    {
     "name": "stdout",
     "output_type": "stream",
     "text": [
      "Found 3 images on page 0\n",
      "Found 5 images on page 1\n",
      "Found 3 images on page 2\n",
      "Found 9 images on page 3\n",
      "Found 10 images on page 4\n",
      "Found 10 images on page 5\n",
      "Found 11 images on page 6\n",
      "Found 11 images on page 7\n",
      "No images found on page 8\n"
     ]
    }
   ],
   "source": [
    "for page_index in range(len(pdf_file)):\n",
    "    page = pdf_file[page_index]\n",
    "    image_list = page.get_images()\n",
    "    \n",
    "    if image_list:\n",
    "        print(f\"Found {len(image_list)} images on page {page_index}\")\n",
    "    else:\n",
    "        print(\"No images found on page\", page_index)\n",
    "    \n",
    "    for image_index, img in enumerate(image_list, start=1): # enumerate the image list\n",
    "        xref = img[0] # get the XREF of the image\n",
    "        pix = fitz.Pixmap(pdf_file, xref) # create a Pixmap\n",
    "\n",
    "        if pix.n - pix.alpha > 3: # CMYK: convert to RGB first\n",
    "            pix = fitz.Pixmap(fitz.csRGB, pix)\n",
    "\n",
    "        image_file_name = f'page_{page_index}-image_{image_index}.png'\n",
    "        saving_complete_path = os.path.join(saving_base_dir, saving_dir, image_file_name)\n",
    "        pix.save(saving_complete_path) # save the image as png\n",
    "        pix = None"
   ]
  },
  {
   "cell_type": "code",
   "execution_count": null,
   "id": "c73ec642-146d-4751-8f14-995369c4634c",
   "metadata": {},
   "outputs": [],
   "source": []
  }
 ],
 "metadata": {
  "kernelspec": {
   "display_name": "Python 3 (ipykernel)",
   "language": "python",
   "name": "python3"
  },
  "language_info": {
   "codemirror_mode": {
    "name": "ipython",
    "version": 3
   },
   "file_extension": ".py",
   "mimetype": "text/x-python",
   "name": "python",
   "nbconvert_exporter": "python",
   "pygments_lexer": "ipython3",
   "version": "3.10.9"
  }
 },
 "nbformat": 4,
 "nbformat_minor": 5
}
